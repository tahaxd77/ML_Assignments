{
  "cells": [
    {
      "cell_type": "code",
      "execution_count": null,
      "metadata": {
        "id": "DixBa19TQXTy"
      },
      "outputs": [],
      "source": [
        "# 23/05/2025\n",
        "# CSC354 – Assignment3 – ML – Concept Learning\n",
        "# Nimra Shahid, Muhammad Taha\n",
        "# FA22-BCS-123,119"
      ]
    },
    {
      "cell_type": "code",
      "execution_count": null,
      "metadata": {
        "id": "UNtNz-Fbr1Ep"
      },
      "outputs": [],
      "source": [
        "import pandas as pd\n",
        "from sklearn.model_selection import train_test_split\n",
        "\n",
        "# Load datase\n",
        "df = pd.read_csv(\"datasaurus.csv\")"
      ]
    },
    {
      "cell_type": "code",
      "execution_count": null,
      "metadata": {
        "colab": {
          "base_uri": "https://localhost:8080/",
          "height": 206
        },
        "id": "13I8ZC7VsdrE",
        "outputId": "c998f194-d271-458b-ce7b-619894d8bdc3"
      },
      "outputs": [
        {
          "data": {
            "application/vnd.google.colaboratory.intrinsic+json": {
              "summary": "{\n  \"name\": \"df\",\n  \"rows\": 1846,\n  \"fields\": [\n    {\n      \"column\": \"dataset\",\n      \"properties\": {\n        \"dtype\": \"category\",\n        \"num_unique_values\": 13,\n        \"samples\": [\n          \"slant_down\",\n          \"bullseye\",\n          \"dino\"\n        ],\n        \"semantic_type\": \"\",\n        \"description\": \"\"\n      }\n    },\n    {\n      \"column\": \"x\",\n      \"properties\": {\n        \"dtype\": \"number\",\n        \"std\": 16.713001444746237,\n        \"min\": 15.5607495229,\n        \"max\": 98.2881232748,\n        \"num_unique_values\": 1804,\n        \"samples\": [\n          61.0885441374,\n          76.6667,\n          44.0013152386\n        ],\n        \"semantic_type\": \"\",\n        \"description\": \"\"\n      }\n    },\n    {\n      \"column\": \"y\",\n      \"properties\": {\n        \"dtype\": \"number\",\n        \"std\": 26.847766343796724,\n        \"min\": 0.0151193251552,\n        \"max\": 99.6946801425,\n        \"num_unique_values\": 1807,\n        \"samples\": [\n          12.0379170217,\n          91.0256,\n          49.0702512739\n        ],\n        \"semantic_type\": \"\",\n        \"description\": \"\"\n      }\n    }\n  ]\n}",
              "type": "dataframe",
              "variable_name": "df"
            },
            "text/html": [
              "\n",
              "  <div id=\"df-fd77ba7a-2126-4d55-864d-6643afa51b6c\" class=\"colab-df-container\">\n",
              "    <div>\n",
              "<style scoped>\n",
              "    .dataframe tbody tr th:only-of-type {\n",
              "        vertical-align: middle;\n",
              "    }\n",
              "\n",
              "    .dataframe tbody tr th {\n",
              "        vertical-align: top;\n",
              "    }\n",
              "\n",
              "    .dataframe thead th {\n",
              "        text-align: right;\n",
              "    }\n",
              "</style>\n",
              "<table border=\"1\" class=\"dataframe\">\n",
              "  <thead>\n",
              "    <tr style=\"text-align: right;\">\n",
              "      <th></th>\n",
              "      <th>dataset</th>\n",
              "      <th>x</th>\n",
              "      <th>y</th>\n",
              "    </tr>\n",
              "  </thead>\n",
              "  <tbody>\n",
              "    <tr>\n",
              "      <th>0</th>\n",
              "      <td>dino</td>\n",
              "      <td>55.3846</td>\n",
              "      <td>97.1795</td>\n",
              "    </tr>\n",
              "    <tr>\n",
              "      <th>1</th>\n",
              "      <td>dino</td>\n",
              "      <td>51.5385</td>\n",
              "      <td>96.0256</td>\n",
              "    </tr>\n",
              "    <tr>\n",
              "      <th>2</th>\n",
              "      <td>dino</td>\n",
              "      <td>46.1538</td>\n",
              "      <td>94.4872</td>\n",
              "    </tr>\n",
              "    <tr>\n",
              "      <th>3</th>\n",
              "      <td>dino</td>\n",
              "      <td>42.8205</td>\n",
              "      <td>91.4103</td>\n",
              "    </tr>\n",
              "    <tr>\n",
              "      <th>4</th>\n",
              "      <td>dino</td>\n",
              "      <td>40.7692</td>\n",
              "      <td>88.3333</td>\n",
              "    </tr>\n",
              "  </tbody>\n",
              "</table>\n",
              "</div>\n",
              "    <div class=\"colab-df-buttons\">\n",
              "\n",
              "  <div class=\"colab-df-container\">\n",
              "    <button class=\"colab-df-convert\" onclick=\"convertToInteractive('df-fd77ba7a-2126-4d55-864d-6643afa51b6c')\"\n",
              "            title=\"Convert this dataframe to an interactive table.\"\n",
              "            style=\"display:none;\">\n",
              "\n",
              "  <svg xmlns=\"http://www.w3.org/2000/svg\" height=\"24px\" viewBox=\"0 -960 960 960\">\n",
              "    <path d=\"M120-120v-720h720v720H120Zm60-500h600v-160H180v160Zm220 220h160v-160H400v160Zm0 220h160v-160H400v160ZM180-400h160v-160H180v160Zm440 0h160v-160H620v160ZM180-180h160v-160H180v160Zm440 0h160v-160H620v160Z\"/>\n",
              "  </svg>\n",
              "    </button>\n",
              "\n",
              "  <style>\n",
              "    .colab-df-container {\n",
              "      display:flex;\n",
              "      gap: 12px;\n",
              "    }\n",
              "\n",
              "    .colab-df-convert {\n",
              "      background-color: #E8F0FE;\n",
              "      border: none;\n",
              "      border-radius: 50%;\n",
              "      cursor: pointer;\n",
              "      display: none;\n",
              "      fill: #1967D2;\n",
              "      height: 32px;\n",
              "      padding: 0 0 0 0;\n",
              "      width: 32px;\n",
              "    }\n",
              "\n",
              "    .colab-df-convert:hover {\n",
              "      background-color: #E2EBFA;\n",
              "      box-shadow: 0px 1px 2px rgba(60, 64, 67, 0.3), 0px 1px 3px 1px rgba(60, 64, 67, 0.15);\n",
              "      fill: #174EA6;\n",
              "    }\n",
              "\n",
              "    .colab-df-buttons div {\n",
              "      margin-bottom: 4px;\n",
              "    }\n",
              "\n",
              "    [theme=dark] .colab-df-convert {\n",
              "      background-color: #3B4455;\n",
              "      fill: #D2E3FC;\n",
              "    }\n",
              "\n",
              "    [theme=dark] .colab-df-convert:hover {\n",
              "      background-color: #434B5C;\n",
              "      box-shadow: 0px 1px 3px 1px rgba(0, 0, 0, 0.15);\n",
              "      filter: drop-shadow(0px 1px 2px rgba(0, 0, 0, 0.3));\n",
              "      fill: #FFFFFF;\n",
              "    }\n",
              "  </style>\n",
              "\n",
              "    <script>\n",
              "      const buttonEl =\n",
              "        document.querySelector('#df-fd77ba7a-2126-4d55-864d-6643afa51b6c button.colab-df-convert');\n",
              "      buttonEl.style.display =\n",
              "        google.colab.kernel.accessAllowed ? 'block' : 'none';\n",
              "\n",
              "      async function convertToInteractive(key) {\n",
              "        const element = document.querySelector('#df-fd77ba7a-2126-4d55-864d-6643afa51b6c');\n",
              "        const dataTable =\n",
              "          await google.colab.kernel.invokeFunction('convertToInteractive',\n",
              "                                                    [key], {});\n",
              "        if (!dataTable) return;\n",
              "\n",
              "        const docLinkHtml = 'Like what you see? Visit the ' +\n",
              "          '<a target=\"_blank\" href=https://colab.research.google.com/notebooks/data_table.ipynb>data table notebook</a>'\n",
              "          + ' to learn more about interactive tables.';\n",
              "        element.innerHTML = '';\n",
              "        dataTable['output_type'] = 'display_data';\n",
              "        await google.colab.output.renderOutput(dataTable, element);\n",
              "        const docLink = document.createElement('div');\n",
              "        docLink.innerHTML = docLinkHtml;\n",
              "        element.appendChild(docLink);\n",
              "      }\n",
              "    </script>\n",
              "  </div>\n",
              "\n",
              "\n",
              "    <div id=\"df-ef450e96-5d8a-4ec5-8796-58a435e3c9b9\">\n",
              "      <button class=\"colab-df-quickchart\" onclick=\"quickchart('df-ef450e96-5d8a-4ec5-8796-58a435e3c9b9')\"\n",
              "                title=\"Suggest charts\"\n",
              "                style=\"display:none;\">\n",
              "\n",
              "<svg xmlns=\"http://www.w3.org/2000/svg\" height=\"24px\"viewBox=\"0 0 24 24\"\n",
              "     width=\"24px\">\n",
              "    <g>\n",
              "        <path d=\"M19 3H5c-1.1 0-2 .9-2 2v14c0 1.1.9 2 2 2h14c1.1 0 2-.9 2-2V5c0-1.1-.9-2-2-2zM9 17H7v-7h2v7zm4 0h-2V7h2v10zm4 0h-2v-4h2v4z\"/>\n",
              "    </g>\n",
              "</svg>\n",
              "      </button>\n",
              "\n",
              "<style>\n",
              "  .colab-df-quickchart {\n",
              "      --bg-color: #E8F0FE;\n",
              "      --fill-color: #1967D2;\n",
              "      --hover-bg-color: #E2EBFA;\n",
              "      --hover-fill-color: #174EA6;\n",
              "      --disabled-fill-color: #AAA;\n",
              "      --disabled-bg-color: #DDD;\n",
              "  }\n",
              "\n",
              "  [theme=dark] .colab-df-quickchart {\n",
              "      --bg-color: #3B4455;\n",
              "      --fill-color: #D2E3FC;\n",
              "      --hover-bg-color: #434B5C;\n",
              "      --hover-fill-color: #FFFFFF;\n",
              "      --disabled-bg-color: #3B4455;\n",
              "      --disabled-fill-color: #666;\n",
              "  }\n",
              "\n",
              "  .colab-df-quickchart {\n",
              "    background-color: var(--bg-color);\n",
              "    border: none;\n",
              "    border-radius: 50%;\n",
              "    cursor: pointer;\n",
              "    display: none;\n",
              "    fill: var(--fill-color);\n",
              "    height: 32px;\n",
              "    padding: 0;\n",
              "    width: 32px;\n",
              "  }\n",
              "\n",
              "  .colab-df-quickchart:hover {\n",
              "    background-color: var(--hover-bg-color);\n",
              "    box-shadow: 0 1px 2px rgba(60, 64, 67, 0.3), 0 1px 3px 1px rgba(60, 64, 67, 0.15);\n",
              "    fill: var(--button-hover-fill-color);\n",
              "  }\n",
              "\n",
              "  .colab-df-quickchart-complete:disabled,\n",
              "  .colab-df-quickchart-complete:disabled:hover {\n",
              "    background-color: var(--disabled-bg-color);\n",
              "    fill: var(--disabled-fill-color);\n",
              "    box-shadow: none;\n",
              "  }\n",
              "\n",
              "  .colab-df-spinner {\n",
              "    border: 2px solid var(--fill-color);\n",
              "    border-color: transparent;\n",
              "    border-bottom-color: var(--fill-color);\n",
              "    animation:\n",
              "      spin 1s steps(1) infinite;\n",
              "  }\n",
              "\n",
              "  @keyframes spin {\n",
              "    0% {\n",
              "      border-color: transparent;\n",
              "      border-bottom-color: var(--fill-color);\n",
              "      border-left-color: var(--fill-color);\n",
              "    }\n",
              "    20% {\n",
              "      border-color: transparent;\n",
              "      border-left-color: var(--fill-color);\n",
              "      border-top-color: var(--fill-color);\n",
              "    }\n",
              "    30% {\n",
              "      border-color: transparent;\n",
              "      border-left-color: var(--fill-color);\n",
              "      border-top-color: var(--fill-color);\n",
              "      border-right-color: var(--fill-color);\n",
              "    }\n",
              "    40% {\n",
              "      border-color: transparent;\n",
              "      border-right-color: var(--fill-color);\n",
              "      border-top-color: var(--fill-color);\n",
              "    }\n",
              "    60% {\n",
              "      border-color: transparent;\n",
              "      border-right-color: var(--fill-color);\n",
              "    }\n",
              "    80% {\n",
              "      border-color: transparent;\n",
              "      border-right-color: var(--fill-color);\n",
              "      border-bottom-color: var(--fill-color);\n",
              "    }\n",
              "    90% {\n",
              "      border-color: transparent;\n",
              "      border-bottom-color: var(--fill-color);\n",
              "    }\n",
              "  }\n",
              "</style>\n",
              "\n",
              "      <script>\n",
              "        async function quickchart(key) {\n",
              "          const quickchartButtonEl =\n",
              "            document.querySelector('#' + key + ' button');\n",
              "          quickchartButtonEl.disabled = true;  // To prevent multiple clicks.\n",
              "          quickchartButtonEl.classList.add('colab-df-spinner');\n",
              "          try {\n",
              "            const charts = await google.colab.kernel.invokeFunction(\n",
              "                'suggestCharts', [key], {});\n",
              "          } catch (error) {\n",
              "            console.error('Error during call to suggestCharts:', error);\n",
              "          }\n",
              "          quickchartButtonEl.classList.remove('colab-df-spinner');\n",
              "          quickchartButtonEl.classList.add('colab-df-quickchart-complete');\n",
              "        }\n",
              "        (() => {\n",
              "          let quickchartButtonEl =\n",
              "            document.querySelector('#df-ef450e96-5d8a-4ec5-8796-58a435e3c9b9 button');\n",
              "          quickchartButtonEl.style.display =\n",
              "            google.colab.kernel.accessAllowed ? 'block' : 'none';\n",
              "        })();\n",
              "      </script>\n",
              "    </div>\n",
              "\n",
              "    </div>\n",
              "  </div>\n"
            ],
            "text/plain": [
              "  dataset        x        y\n",
              "0    dino  55.3846  97.1795\n",
              "1    dino  51.5385  96.0256\n",
              "2    dino  46.1538  94.4872\n",
              "3    dino  42.8205  91.4103\n",
              "4    dino  40.7692  88.3333"
            ]
          },
          "execution_count": 40,
          "metadata": {},
          "output_type": "execute_result"
        }
      ],
      "source": [
        "df.head()"
      ]
    },
    {
      "cell_type": "code",
      "execution_count": null,
      "metadata": {
        "colab": {
          "base_uri": "https://localhost:8080/"
        },
        "id": "mZmljQ5dsnsL",
        "outputId": "08de7a69-6c20-4da4-a376-1420c95a8ab6"
      },
      "outputs": [
        {
          "name": "stdout",
          "output_type": "stream",
          "text": [
            "<class 'pandas.core.frame.DataFrame'>\n",
            "RangeIndex: 1846 entries, 0 to 1845\n",
            "Data columns (total 3 columns):\n",
            " #   Column   Non-Null Count  Dtype  \n",
            "---  ------   --------------  -----  \n",
            " 0   dataset  1846 non-null   object \n",
            " 1   x        1846 non-null   float64\n",
            " 2   y        1846 non-null   float64\n",
            "dtypes: float64(2), object(1)\n",
            "memory usage: 43.4+ KB\n"
          ]
        }
      ],
      "source": [
        "df.info()"
      ]
    },
    {
      "cell_type": "code",
      "execution_count": null,
      "metadata": {
        "colab": {
          "base_uri": "https://localhost:8080/"
        },
        "id": "xUFRN1N4wn3c",
        "outputId": "a7237467-c0a3-45c3-9a77-f682c54ee9a5"
      },
      "outputs": [
        {
          "name": "stdout",
          "output_type": "stream",
          "text": [
            "away: 0\n",
            "bullseye: 1\n",
            "circle: 2\n",
            "dino: 3\n",
            "dots: 4\n",
            "h_lines: 5\n",
            "high_lines: 6\n",
            "slant_down: 7\n",
            "slant_up: 8\n",
            "star: 9\n",
            "v_lines: 10\n",
            "wide_lines: 11\n",
            "x_shape: 12\n",
            "Length Train Set: 1476\n",
            "Length Test Set: 370\n"
          ]
        }
      ],
      "source": [
        "import pandas as pd\n",
        "from sklearn.model_selection import train_test_split\n",
        "import numpy as np\n",
        "\n",
        "\n",
        "# Features and label\n",
        "X = df[['x', 'y']]\n",
        "y = df['dataset']\n",
        "\n",
        "# Encode labels\n",
        "from sklearn.preprocessing import LabelEncoder\n",
        "le = LabelEncoder()\n",
        "y_encoded = le.fit_transform(y)\n",
        "for i, label in enumerate(le.classes_):\n",
        "    print(f\"{label}: {i}\")\n",
        "\n",
        "# Train/test split (80/20)\n",
        "X_train, X_test, y_train, y_test = train_test_split(X, y_encoded, test_size=0.2, random_state=42)\n",
        "print(\"Length Train Set:\", len(X_train))\n",
        "print(\"Length Test Set:\", len(X_test))"
      ]
    },
    {
      "cell_type": "markdown",
      "metadata": {
        "id": "aGoH9_DzcdPv"
      },
      "source": [
        "#Decision Tree Classifier\n",
        "Using Default Parameters"
      ]
    },
    {
      "cell_type": "code",
      "execution_count": null,
      "metadata": {
        "colab": {
          "base_uri": "https://localhost:8080/"
        },
        "id": "baZ_4f2BwsOj",
        "outputId": "143120ad-30b2-469d-db6f-1665245d6d3c"
      },
      "outputs": [
        {
          "name": "stdout",
          "output_type": "stream",
          "text": [
            "J48 (Decision Tree) - Default Parameters:\n",
            "               precision    recall  f1-score   support\n",
            "\n",
            "           0       0.22      0.25      0.23        28\n",
            "           1       0.40      0.32      0.36        37\n",
            "           2       0.38      0.54      0.45        28\n",
            "           3       0.23      0.20      0.21        25\n",
            "           4       0.54      0.70      0.61        20\n",
            "           5       0.82      0.75      0.78        36\n",
            "           6       0.26      0.25      0.25        28\n",
            "           7       0.27      0.29      0.28        24\n",
            "           8       0.26      0.17      0.21        29\n",
            "           9       0.59      0.70      0.64        27\n",
            "          10       0.63      0.52      0.57        33\n",
            "          11       0.21      0.20      0.21        30\n",
            "          12       0.31      0.36      0.33        25\n",
            "\n",
            "    accuracy                           0.41       370\n",
            "   macro avg       0.39      0.40      0.40       370\n",
            "weighted avg       0.41      0.41      0.40       370\n",
            "\n"
          ]
        }
      ],
      "source": [
        "from sklearn.tree import DecisionTreeClassifier\n",
        "from sklearn.metrics import classification_report\n",
        "\n",
        "dt = DecisionTreeClassifier()\n",
        "dt.fit(X_train, y_train)\n",
        "y_pred_dt = dt.predict(X_test)\n",
        "print(\"J48 (Decision Tree) - Default Parameters:\\n\", classification_report(y_test, y_pred_dt))\n"
      ]
    },
    {
      "cell_type": "markdown",
      "metadata": {
        "id": "p7k38NFpc2O9"
      },
      "source": [
        "\n",
        "\n",
        "#Using Optimal Parameters\n",
        "Optimal Parameters tested on both Grid Search and Random Search"
      ]
    },
    {
      "cell_type": "code",
      "execution_count": null,
      "metadata": {
        "colab": {
          "base_uri": "https://localhost:8080/"
        },
        "id": "SH6PsbuVc0xD",
        "outputId": "0ff72942-ab7a-43b6-8a1d-3724a214be9f"
      },
      "outputs": [
        {
          "name": "stdout",
          "output_type": "stream",
          "text": [
            "Best parameters from Grid Search: {'criterion': 'gini', 'max_depth': 20, 'max_features': None, 'min_samples_leaf': 1, 'min_samples_split': 2}\n",
            "Accuracy: 0.4376775080164911\n",
            "Classification Report (Grid Search):\n",
            "              precision    recall  f1-score   support\n",
            "\n",
            "           0       0.19      0.21      0.20        28\n",
            "           1       0.39      0.35      0.37        37\n",
            "           2       0.38      0.54      0.45        28\n",
            "           3       0.18      0.16      0.17        25\n",
            "           4       0.52      0.65      0.58        20\n",
            "           5       0.82      0.78      0.80        36\n",
            "           6       0.23      0.25      0.24        28\n",
            "           7       0.21      0.25      0.23        24\n",
            "           8       0.21      0.14      0.17        29\n",
            "           9       0.66      0.70      0.68        27\n",
            "          10       0.70      0.48      0.57        33\n",
            "          11       0.25      0.23      0.24        30\n",
            "          12       0.30      0.32      0.31        25\n",
            "\n",
            "    accuracy                           0.39       370\n",
            "   macro avg       0.39      0.39      0.38       370\n",
            "weighted avg       0.40      0.39      0.39       370\n",
            "\n",
            " Best parameters from Random Search: {'criterion': 'entropy', 'max_depth': np.int64(15), 'max_features': None, 'min_samples_leaf': 1, 'min_samples_split': 4}\n",
            "Accuracy: 0.41462895098488317\n",
            "📄 Classification Report (Random Search):\n",
            "              precision    recall  f1-score   support\n",
            "\n",
            "           0       0.17      0.18      0.17        28\n",
            "           1       0.32      0.32      0.32        37\n",
            "           2       0.48      0.75      0.58        28\n",
            "           3       0.09      0.08      0.09        25\n",
            "           4       0.63      0.60      0.62        20\n",
            "           5       0.88      0.78      0.82        36\n",
            "           6       0.19      0.21      0.20        28\n",
            "           7       0.23      0.33      0.27        24\n",
            "           8       0.32      0.21      0.25        29\n",
            "           9       0.62      0.56      0.59        27\n",
            "          10       0.60      0.45      0.52        33\n",
            "          11       0.22      0.20      0.21        30\n",
            "          12       0.40      0.40      0.40        25\n",
            "\n",
            "    accuracy                           0.39       370\n",
            "   macro avg       0.40      0.39      0.39       370\n",
            "weighted avg       0.40      0.39      0.39       370\n",
            "\n"
          ]
        }
      ],
      "source": [
        "from scipy.stats import randint\n",
        "from sklearn.model_selection import GridSearchCV, RandomizedSearchCV\n",
        "\n",
        "#1. Grid Search\n",
        "\n",
        "grid_params = {\n",
        "    'criterion': ['gini', 'entropy'],\n",
        "    'max_depth': [None, 3, 5, 10, 15, 20, 25],\n",
        "    'min_samples_split': [2, 3, 5, 7, 10],\n",
        "    'min_samples_leaf': [1, 2, 3, 4, 5],\n",
        "    'max_features': [None, 'sqrt', 'log2']\n",
        "}\n",
        "\n",
        "grid_search = GridSearchCV(\n",
        "    DecisionTreeClassifier(random_state=42),\n",
        "    grid_params,\n",
        "    cv=5,\n",
        "    n_jobs=-1,\n",
        "    scoring='accuracy'\n",
        ")\n",
        "grid_search.fit(X_train, y_train)\n",
        "\n",
        "print(\"Best parameters from Grid Search:\", grid_search.best_params_)\n",
        "print(\"Accuracy:\", grid_search.best_score_)\n",
        "\n",
        "best_tree_grid = grid_search.best_estimator_\n",
        "y_pred_grid = best_tree_grid.predict(X_test)\n",
        "print(\"Classification Report (Grid Search):\")\n",
        "print(classification_report(y_test, y_pred_grid))\n",
        "\n",
        "# 2. Random Search\n",
        "\n",
        "random_params = {\n",
        "    'criterion': ['gini', 'entropy'],\n",
        "    'max_depth': [None] + list(np.random.randint(3, 30, 10)),\n",
        "    'min_samples_split': randint(2, 20),\n",
        "    'min_samples_leaf': randint(1, 10),\n",
        "    'max_features': ['sqrt', 'log2', None]\n",
        "}\n",
        "\n",
        "random_search = RandomizedSearchCV(\n",
        "    DecisionTreeClassifier(random_state=42),\n",
        "    param_distributions=random_params,\n",
        "    n_iter=100,  # Increased iterations\n",
        "    cv=5,\n",
        "    n_jobs=-1,\n",
        "    random_state=42,\n",
        "    scoring='accuracy'\n",
        ")\n",
        "random_search.fit(X_train, y_train)\n",
        "\n",
        "print(\" Best parameters from Random Search:\", random_search.best_params_)\n",
        "print(\"Accuracy:\", random_search.best_score_)\n",
        "\n",
        "best_tree_random = random_search.best_estimator_\n",
        "y_pred_random = best_tree_random.predict(X_test)\n",
        "print(\"📄 Classification Report (Random Search):\")\n",
        "print(classification_report(y_test, y_pred_random))\n"
      ]
    },
    {
      "cell_type": "markdown",
      "metadata": {
        "id": "RUc6XjvJsr55"
      },
      "source": [
        "#Random Forest Classifier\n",
        "Using Default Parameters"
      ]
    },
    {
      "cell_type": "code",
      "execution_count": null,
      "metadata": {
        "colab": {
          "base_uri": "https://localhost:8080/"
        },
        "id": "_6Y20gkv1cue",
        "outputId": "c4b84136-9cbd-4a47-80ca-08defb0e8dac"
      },
      "outputs": [
        {
          "name": "stdout",
          "output_type": "stream",
          "text": [
            "Random Forest - Default Parameters:\n",
            "               precision    recall  f1-score   support\n",
            "\n",
            "           0       0.32      0.21      0.26        28\n",
            "           1       0.34      0.30      0.32        37\n",
            "           2       0.55      0.82      0.66        28\n",
            "           3       0.15      0.12      0.13        25\n",
            "           4       0.86      0.95      0.90        20\n",
            "           5       0.66      0.69      0.68        36\n",
            "           6       0.33      0.32      0.33        28\n",
            "           7       0.22      0.17      0.19        24\n",
            "           8       0.20      0.14      0.16        29\n",
            "           9       0.54      0.70      0.61        27\n",
            "          10       0.74      0.79      0.76        33\n",
            "          11       0.28      0.27      0.27        30\n",
            "          12       0.48      0.64      0.55        25\n",
            "\n",
            "    accuracy                           0.47       370\n",
            "   macro avg       0.44      0.47      0.45       370\n",
            "weighted avg       0.44      0.47      0.45       370\n",
            "\n"
          ]
        }
      ],
      "source": [
        "from sklearn.ensemble import RandomForestClassifier\n",
        "\n",
        "rf = RandomForestClassifier()\n",
        "rf.fit(X_train, y_train)\n",
        "y_pred_rf = rf.predict(X_test)\n",
        "print(\"Random Forest - Default Parameters:\\n\", classification_report(y_test, y_pred_rf))\n"
      ]
    },
    {
      "cell_type": "markdown",
      "metadata": {
        "id": "FDcvFvzY2kI2"
      },
      "source": [
        "#Using Optimal Parameters\n",
        "Performing Optimal Parameters on Grid Search and Random Search"
      ]
    },
    {
      "cell_type": "code",
      "execution_count": null,
      "metadata": {
        "colab": {
          "base_uri": "https://localhost:8080/"
        },
        "id": "Lg5qtCG72i4U",
        "outputId": "91f99f85-2d32-42af-872b-d08acd891dff"
      },
      "outputs": [
        {
          "name": "stdout",
          "output_type": "stream",
          "text": [
            "✅ Best parameters from Grid Search (RF): {'criterion': 'gini', 'max_depth': 20, 'max_features': 'sqrt', 'min_samples_leaf': 1, 'min_samples_split': 5, 'n_estimators': 100}\n",
            "📈 CV Accuracy: 0.44918699186991873\n",
            "📄 Classification Report (Grid Search - RF):\n",
            "              precision    recall  f1-score   support\n",
            "\n",
            "           0       0.36      0.18      0.24        28\n",
            "           1       0.34      0.32      0.33        37\n",
            "           2       0.50      0.71      0.59        28\n",
            "           3       0.18      0.08      0.11        25\n",
            "           4       0.73      0.95      0.83        20\n",
            "           5       0.78      0.86      0.82        36\n",
            "           6       0.29      0.25      0.27        28\n",
            "           7       0.11      0.12      0.12        24\n",
            "           8       0.24      0.17      0.20        29\n",
            "           9       0.59      0.74      0.66        27\n",
            "          10       0.72      0.70      0.71        33\n",
            "          11       0.23      0.23      0.23        30\n",
            "          12       0.46      0.64      0.53        25\n",
            "\n",
            "    accuracy                           0.46       370\n",
            "   macro avg       0.42      0.46      0.43       370\n",
            "weighted avg       0.43      0.46      0.44       370\n",
            "\n",
            "🎯 Test Accuracy: 0.4594594594594595\n"
          ]
        }
      ],
      "source": [
        "from sklearn.ensemble import RandomForestClassifier\n",
        "from scipy.stats import randint\n",
        "from sklearn.model_selection import GridSearchCV, RandomizedSearchCV\n",
        "from sklearn.metrics import classification_report, accuracy_score\n",
        "\n",
        "# 1. Grid Search\n",
        "\n",
        "grid_params_rf = {\n",
        "    'n_estimators': [50, 100],\n",
        "    'criterion': ['gini','entropy'],\n",
        "    'max_depth': [10, 20],\n",
        "    'min_samples_split': [2, 5],\n",
        "    'min_samples_leaf': [1, 2],\n",
        "    'max_features': ['sqrt']\n",
        "}\n",
        "\n",
        "\n",
        "grid_search_rf = GridSearchCV(\n",
        "    RandomForestClassifier(random_state=42),\n",
        "    grid_params_rf,\n",
        "    cv=3,\n",
        "    n_jobs=-1,\n",
        "    scoring='accuracy'\n",
        ")\n",
        "grid_search_rf.fit(X_train, y_train)\n",
        "\n",
        "print(\"✅ Best parameters from Grid Search (RF):\", grid_search_rf.best_params_)\n",
        "print(\"📈 CV Accuracy:\", grid_search_rf.best_score_)\n",
        "\n",
        "best_rf_grid = grid_search_rf.best_estimator_\n",
        "y_pred_grid_rf = best_rf_grid.predict(X_test)\n",
        "print(\"📄 Classification Report (Grid Search - RF):\")\n",
        "print(classification_report(y_test, y_pred_grid_rf))\n",
        "print(\"🎯 Test Accuracy:\", accuracy_score(y_test, y_pred_grid_rf))\n"
      ]
    },
    {
      "cell_type": "markdown",
      "metadata": {
        "id": "7FB0WRYlLEZx"
      },
      "source": [
        "#Random Search Classifier using Random Forest Classifier"
      ]
    },
    {
      "cell_type": "code",
      "execution_count": null,
      "metadata": {
        "colab": {
          "base_uri": "https://localhost:8080/"
        },
        "id": "hgUTfMET3BDO",
        "outputId": "c9d98e26-f9e4-4cf6-a617-9ece52ca23fb"
      },
      "outputs": [
        {
          "name": "stdout",
          "output_type": "stream",
          "text": [
            "Best parameters from Random Search (RF): {'criterion': 'entropy', 'max_depth': np.int64(22), 'max_features': 'log2', 'min_samples_leaf': 2, 'min_samples_split': 2, 'n_estimators': 107}\n",
            "CV Accuracy: 0.4769491525423729\n",
            "Classification Report (Random Search - RF):\n",
            "              precision    recall  f1-score   support\n",
            "\n",
            "           0       0.30      0.21      0.25        28\n",
            "           1       0.35      0.32      0.34        37\n",
            "           2       0.51      0.75      0.61        28\n",
            "           3       0.14      0.08      0.10        25\n",
            "           4       0.86      0.95      0.90        20\n",
            "           5       0.71      0.69      0.70        36\n",
            "           6       0.38      0.32      0.35        28\n",
            "           7       0.14      0.12      0.13        24\n",
            "           8       0.25      0.17      0.20        29\n",
            "           9       0.53      0.67      0.59        27\n",
            "          10       0.73      0.73      0.73        33\n",
            "          11       0.29      0.33      0.31        30\n",
            "          12       0.43      0.64      0.52        25\n",
            "\n",
            "    accuracy                           0.46       370\n",
            "   macro avg       0.43      0.46      0.44       370\n",
            "weighted avg       0.44      0.46      0.44       370\n",
            "\n",
            "Test Accuracy: 0.4594594594594595\n"
          ]
        }
      ],
      "source": [
        "# 2. Random Search\n",
        "\n",
        "random_params_rf = {\n",
        "    'n_estimators': randint(50, 200),\n",
        "    'criterion': ['gini', 'entropy'],\n",
        "    'max_depth': [None] + list(np.random.randint(5, 30, 5)),\n",
        "    'min_samples_split': randint(2, 20),\n",
        "    'min_samples_leaf': randint(1, 10),\n",
        "    'max_features': ['sqrt', 'log2']\n",
        "}\n",
        "\n",
        "random_search_rf = RandomizedSearchCV(\n",
        "    RandomForestClassifier(random_state=42),\n",
        "    param_distributions=random_params_rf,\n",
        "    n_iter=25,\n",
        "    cv=5,\n",
        "    n_jobs=-1,\n",
        "    random_state=42,\n",
        "    scoring='accuracy'\n",
        ")\n",
        "random_search_rf.fit(X_train, y_train)\n",
        "\n",
        "print(\"Best parameters from Random Search (RF):\", random_search_rf.best_params_)\n",
        "print(\"CV Accuracy:\", random_search_rf.best_score_)\n",
        "\n",
        "best_rf_random = random_search_rf.best_estimator_\n",
        "y_pred_random_rf = best_rf_random.predict(X_test)\n",
        "print(\"Classification Report (Random Search - RF):\")\n",
        "print(classification_report(y_test, y_pred_random_rf))\n",
        "print(\"Test Accuracy:\", accuracy_score(y_test, y_pred_random_rf))\n"
      ]
    }
  ],
  "metadata": {
    "colab": {
      "provenance": []
    },
    "kernelspec": {
      "display_name": "Python 3",
      "name": "python3"
    },
    "language_info": {
      "name": "python"
    }
  },
  "nbformat": 4,
  "nbformat_minor": 0
}
