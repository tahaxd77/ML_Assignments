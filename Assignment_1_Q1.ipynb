{
  "cells": [
    {
      "cell_type": "code",
      "execution_count": null,
      "metadata": {
        "id": "WdZUF7WTZ6V9"
      },
      "outputs": [],
      "source": [
        "# 27/05/2025\n",
        "# CSC354 – Assignment1 – ML – Concept Learning\n",
        "# Nimra Shahid\n",
        "# FA22-BCS-123\n",
        "# The task extracts the table from the given url and then seperate the English and Spanish Language books"
      ]
    },
    {
      "cell_type": "code",
      "execution_count": 1,
      "metadata": {},
      "outputs": [
        {
          "name": "stdout",
          "output_type": "stream",
          "text": [
            "Package                 Version\n",
            "----------------------- -----------\n",
            "asttokens               3.0.0\n",
            "beautifulsoup4          4.13.4\n",
            "certifi                 2025.4.26\n",
            "charset-normalizer      3.4.1\n",
            "colorama                0.4.6\n",
            "comm                    0.2.2\n",
            "debugpy                 1.8.13\n",
            "decorator               5.2.1\n",
            "executing               2.2.0\n",
            "idna                    3.10\n",
            "ipykernel               6.29.5\n",
            "ipython                 9.0.2\n",
            "ipython_pygments_lexers 1.1.1\n",
            "jedi                    0.19.2\n",
            "jupyter_client          8.6.3\n",
            "jupyter_core            5.7.2\n",
            "matplotlib-inline       0.1.7\n",
            "nest-asyncio            1.6.0\n",
            "numpy                   2.2.5\n",
            "packaging               24.2\n",
            "pandas                  2.2.3\n",
            "parso                   0.8.4\n",
            "pip                     24.2\n",
            "platformdirs            4.3.7\n",
            "prompt_toolkit          3.0.50\n",
            "psutil                  7.0.0\n",
            "pure_eval               0.2.3\n",
            "Pygments                2.19.1\n",
            "python-dateutil         2.9.0.post0\n",
            "pytz                    2025.2\n",
            "pywin32                 310\n",
            "pyzmq                   26.3.0\n",
            "requests                2.32.3\n",
            "six                     1.17.0\n",
            "soupsieve               2.7\n",
            "stack-data              0.6.3\n",
            "tornado                 6.4.2\n",
            "traitlets               5.14.3\n",
            "typing_extensions       4.13.2\n",
            "tzdata                  2025.2\n",
            "urllib3                 2.4.0\n",
            "wcwidth                 0.2.13\n"
          ]
        }
      ],
      "source": [
        "!pip list"
      ]
    },
    {
      "cell_type": "code",
      "execution_count": 2,
      "metadata": {
        "id": "SlKl71B7bGS6"
      },
      "outputs": [],
      "source": [
        "import requests\n",
        "from bs4 import BeautifulSoup\n",
        "import pandas as pd"
      ]
    },
    {
      "cell_type": "code",
      "execution_count": 3,
      "metadata": {
        "colab": {
          "base_uri": "https://localhost:8080/"
        },
        "id": "UWWVE8FUc3HG",
        "outputId": "486fc443-4f9e-46a7-9780-8a05b30bbc91"
      },
      "outputs": [],
      "source": [
        "#Step1: Fetching the main URL HTML code\n",
        "url = \"https://en.wikipedia.org/wiki/Le_Monde%27s_100_Books_of_the_Century\"\n",
        "response = requests.get(url)\n",
        "soup = BeautifulSoup(response.text, \"html.parser\")"
      ]
    },
    {
      "cell_type": "code",
      "execution_count": 4,
      "metadata": {
        "id": "45yp75CgeUIw"
      },
      "outputs": [],
      "source": [
        "# Step2: Find the table containing the book list\n",
        "table = soup.find(\"table\",{\"class\":\"wikitable sortable\"})\n",
        "rows = table.find_all(\"tr\")[1:]\n",
        "books=[]"
      ]
    },
    {
      "cell_type": "code",
      "execution_count": 5,
      "metadata": {
        "id": "P7G7PcjhiBpi"
      },
      "outputs": [],
      "source": [
        "for row in rows:\n",
        "  cols = row.find_all(\"td\")\n",
        "  if len(cols) < 5:\n",
        "    continue\n",
        "  title = cols[1].text.strip()\n",
        "  author = cols[2].text.strip()\n",
        "  year = cols[3].text.strip()\n",
        "  language = cols[4].text.strip()\n",
        "\n",
        "  #Seperate out books of English and Spanish Language\n",
        "  if \"English\" in language or \"Spanish\" in language:\n",
        "    books.append({\n",
        "        \"Title\":title,\n",
        "        \"Author\":author,\n",
        "        \"Publishing Year\": year,\n",
        "        \"Language\": language\n",
        "    })"
      ]
    },
    {
      "cell_type": "code",
      "execution_count": 6,
      "metadata": {
        "colab": {
          "base_uri": "https://localhost:8080/"
        },
        "id": "1i82O8GAlCrk",
        "outputId": "e1da4896-4b22-44ed-de4f-2f83f0b322d9"
      },
      "outputs": [
        {
          "name": "stdout",
          "output_type": "stream",
          "text": [
            "                     Title            Author Publishing Year Language\n",
            "0      The Grapes of Wrath    John Steinbeck            1939  English\n",
            "1  For Whom the Bell Tolls  Ernest Hemingway            1940  English\n",
            "2          Brave New World     Aldous Huxley            1932  English\n",
            "3     Nineteen Eighty-Four     George Orwell            1949  English\n",
            "4                   Lolita  Vladimir Nabokov            1955  English\n"
          ]
        }
      ],
      "source": [
        "books_df = pd.DataFrame(books)\n",
        "print(books_df.head())"
      ]
    },
    {
      "cell_type": "code",
      "execution_count": 7,
      "metadata": {
        "id": "dAkLeIvylhTb"
      },
      "outputs": [],
      "source": [
        "# Save the data to CSV\n",
        "books_df.to_csv(\"books_data.csv\",index=False)"
      ]
    }
  ],
  "metadata": {
    "colab": {
      "provenance": []
    },
    "kernelspec": {
      "display_name": "Python 3",
      "name": "python3"
    },
    "language_info": {
      "codemirror_mode": {
        "name": "ipython",
        "version": 3
      },
      "file_extension": ".py",
      "mimetype": "text/x-python",
      "name": "python",
      "nbconvert_exporter": "python",
      "pygments_lexer": "ipython3",
      "version": "3.12.6"
    }
  },
  "nbformat": 4,
  "nbformat_minor": 0
}
